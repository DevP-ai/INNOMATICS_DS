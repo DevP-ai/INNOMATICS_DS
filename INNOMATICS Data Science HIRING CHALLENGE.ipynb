{
 "cells": [
  {
   "cell_type": "markdown",
   "id": "82444082",
   "metadata": {},
   "source": [
    "# INNOMATICS Data Science HIRING CHALLENGE"
   ]
  },
  {
   "cell_type": "markdown",
   "id": "eb733abf",
   "metadata": {},
   "source": [
    "### import required library"
   ]
  },
  {
   "cell_type": "code",
   "execution_count": 1,
   "id": "08eedd0f",
   "metadata": {},
   "outputs": [],
   "source": [
    "import numpy as np\n",
    "import pandas as pd"
   ]
  },
  {
   "cell_type": "markdown",
   "id": "dbf255eb",
   "metadata": {},
   "source": [
    "##### Read dataset "
   ]
  },
  {
   "cell_type": "code",
   "execution_count": 2,
   "id": "370f62ec",
   "metadata": {},
   "outputs": [],
   "source": [
    "data=pd.read_csv(\"uber_rides_data.csv\")"
   ]
  },
  {
   "cell_type": "markdown",
   "id": "0292ee9b",
   "metadata": {},
   "source": [
    "##### Q.1) What is the shape of given dataset?"
   ]
  },
  {
   "cell_type": "code",
   "execution_count": 3,
   "id": "c4d32889",
   "metadata": {},
   "outputs": [
    {
     "data": {
      "text/plain": [
       "(200000, 8)"
      ]
     },
     "execution_count": 3,
     "metadata": {},
     "output_type": "execute_result"
    }
   ],
   "source": [
    "data.shape  #Shape of the datase"
   ]
  },
  {
   "cell_type": "code",
   "execution_count": 4,
   "id": "e46e4f5c",
   "metadata": {},
   "outputs": [
    {
     "data": {
      "text/html": [
       "<div>\n",
       "<style scoped>\n",
       "    .dataframe tbody tr th:only-of-type {\n",
       "        vertical-align: middle;\n",
       "    }\n",
       "\n",
       "    .dataframe tbody tr th {\n",
       "        vertical-align: top;\n",
       "    }\n",
       "\n",
       "    .dataframe thead th {\n",
       "        text-align: right;\n",
       "    }\n",
       "</style>\n",
       "<table border=\"1\" class=\"dataframe\">\n",
       "  <thead>\n",
       "    <tr style=\"text-align: right;\">\n",
       "      <th></th>\n",
       "      <th>ride_id</th>\n",
       "      <th>fare_amount</th>\n",
       "      <th>pickup_datetime</th>\n",
       "      <th>pickup_longitude</th>\n",
       "      <th>pickup_latitude</th>\n",
       "      <th>dropoff_longitude</th>\n",
       "      <th>dropoff_latitude</th>\n",
       "      <th>passenger_count</th>\n",
       "    </tr>\n",
       "  </thead>\n",
       "  <tbody>\n",
       "    <tr>\n",
       "      <th>0</th>\n",
       "      <td>24238194</td>\n",
       "      <td>7.5</td>\n",
       "      <td>2015-05-07 19:52:06 UTC</td>\n",
       "      <td>-73.999817</td>\n",
       "      <td>40.738354</td>\n",
       "      <td>-73.999512</td>\n",
       "      <td>40.723217</td>\n",
       "      <td>1</td>\n",
       "    </tr>\n",
       "    <tr>\n",
       "      <th>1</th>\n",
       "      <td>27835199</td>\n",
       "      <td>7.7</td>\n",
       "      <td>2009-07-17 20:04:56 UTC</td>\n",
       "      <td>-73.994355</td>\n",
       "      <td>40.728225</td>\n",
       "      <td>-73.994710</td>\n",
       "      <td>40.750325</td>\n",
       "      <td>1</td>\n",
       "    </tr>\n",
       "    <tr>\n",
       "      <th>2</th>\n",
       "      <td>44984355</td>\n",
       "      <td>12.9</td>\n",
       "      <td>2009-08-24 21:45:00 UTC</td>\n",
       "      <td>-74.005043</td>\n",
       "      <td>40.740770</td>\n",
       "      <td>-73.962565</td>\n",
       "      <td>40.772647</td>\n",
       "      <td>1</td>\n",
       "    </tr>\n",
       "    <tr>\n",
       "      <th>3</th>\n",
       "      <td>25894730</td>\n",
       "      <td>5.3</td>\n",
       "      <td>2009-06-26 08:22:21 UTC</td>\n",
       "      <td>-73.976124</td>\n",
       "      <td>40.790844</td>\n",
       "      <td>-73.965316</td>\n",
       "      <td>40.803349</td>\n",
       "      <td>3</td>\n",
       "    </tr>\n",
       "  </tbody>\n",
       "</table>\n",
       "</div>"
      ],
      "text/plain": [
       "    ride_id  fare_amount          pickup_datetime  pickup_longitude  \\\n",
       "0  24238194          7.5  2015-05-07 19:52:06 UTC        -73.999817   \n",
       "1  27835199          7.7  2009-07-17 20:04:56 UTC        -73.994355   \n",
       "2  44984355         12.9  2009-08-24 21:45:00 UTC        -74.005043   \n",
       "3  25894730          5.3  2009-06-26 08:22:21 UTC        -73.976124   \n",
       "\n",
       "   pickup_latitude  dropoff_longitude  dropoff_latitude  passenger_count  \n",
       "0        40.738354         -73.999512         40.723217                1  \n",
       "1        40.728225         -73.994710         40.750325                1  \n",
       "2        40.740770         -73.962565         40.772647                1  \n",
       "3        40.790844         -73.965316         40.803349                3  "
      ]
     },
     "execution_count": 4,
     "metadata": {},
     "output_type": "execute_result"
    }
   ],
   "source": [
    "data.head(4) #check the data"
   ]
  },
  {
   "cell_type": "markdown",
   "id": "17d49fa3",
   "metadata": {},
   "source": [
    "##### Q.2) How many integer columns(by default) are given in the dataset?\n"
   ]
  },
  {
   "cell_type": "code",
   "execution_count": 5,
   "id": "31be1ac4",
   "metadata": {},
   "outputs": [
    {
     "name": "stdout",
     "output_type": "stream",
     "text": [
      "Integer columns(by default) are given in the dataset are:2\n"
     ]
    }
   ],
   "source": [
    "int_columns = data.select_dtypes(include=['int']).columns\n",
    "num_int_columns = len(int_columns)\n",
    "print(f\"Integer columns(by default) are given in the dataset are:{num_int_columns}\") "
   ]
  },
  {
   "cell_type": "code",
   "execution_count": 6,
   "id": "eb79e344",
   "metadata": {},
   "outputs": [
    {
     "data": {
      "text/plain": [
       "Index(['ride_id', 'passenger_count'], dtype='object')"
      ]
     },
     "execution_count": 6,
     "metadata": {},
     "output_type": "execute_result"
    }
   ],
   "source": [
    "int_columns  #Check the int column name"
   ]
  },
  {
   "cell_type": "markdown",
   "id": "6a0b5aa9",
   "metadata": {},
   "source": [
    "##### Q.3) How many missing values exists in 'dropoff_longitude' column?"
   ]
  },
  {
   "cell_type": "code",
   "execution_count": 7,
   "id": "da78cd14",
   "metadata": {},
   "outputs": [
    {
     "name": "stdout",
     "output_type": "stream",
     "text": [
      "Number of missing values exists in 'dropoff_longitude' column are: 1\n"
     ]
    }
   ],
   "source": [
    "null_value=data['dropoff_longitude'].isnull().sum()\n",
    "print(f\"Number of missing values exists in 'dropoff_longitude' column are: {null_value}\")"
   ]
  },
  {
   "cell_type": "markdown",
   "id": "3e76a1b2",
   "metadata": {},
   "source": [
    "##### Q.4) What is the data type of ' pickup_datetime' feature in your data?"
   ]
  },
  {
   "cell_type": "code",
   "execution_count": 8,
   "id": "6b4c8f16",
   "metadata": {},
   "outputs": [
    {
     "name": "stdout",
     "output_type": "stream",
     "text": [
      "The data type of 'pickup_datetime' is: object\n"
     ]
    }
   ],
   "source": [
    "pickup_datetime_dtype =data['pickup_datetime'].dtype\n",
    "print(f\"The data type of 'pickup_datetime' is: {pickup_datetime_dtype}\")"
   ]
  },
  {
   "cell_type": "code",
   "execution_count": 9,
   "id": "320f02c3",
   "metadata": {},
   "outputs": [
    {
     "name": "stdout",
     "output_type": "stream",
     "text": [
      "<class 'pandas.core.frame.DataFrame'>\n",
      "RangeIndex: 200000 entries, 0 to 199999\n",
      "Data columns (total 8 columns):\n",
      " #   Column             Non-Null Count   Dtype  \n",
      "---  ------             --------------   -----  \n",
      " 0   ride_id            200000 non-null  int64  \n",
      " 1   fare_amount        200000 non-null  float64\n",
      " 2   pickup_datetime    200000 non-null  object \n",
      " 3   pickup_longitude   200000 non-null  float64\n",
      " 4   pickup_latitude    200000 non-null  float64\n",
      " 5   dropoff_longitude  199999 non-null  float64\n",
      " 6   dropoff_latitude   199999 non-null  float64\n",
      " 7   passenger_count    200000 non-null  int64  \n",
      "dtypes: float64(5), int64(2), object(1)\n",
      "memory usage: 12.2+ MB\n"
     ]
    }
   ],
   "source": [
    "#Alternative method to check for all columns data type\n",
    "data.info()"
   ]
  },
  {
   "cell_type": "markdown",
   "id": "f37381cd",
   "metadata": {},
   "source": [
    "##### Q.5) Which of the following is the correct syntax to convert 'pickup_datetime' to datetime datatype?"
   ]
  },
  {
   "cell_type": "code",
   "execution_count": 10,
   "id": "90a7b406",
   "metadata": {},
   "outputs": [
    {
     "data": {
      "text/plain": [
       "0        2015-05-07 19:52:06+00:00\n",
       "1        2009-07-17 20:04:56+00:00\n",
       "2        2009-08-24 21:45:00+00:00\n",
       "3        2009-06-26 08:22:21+00:00\n",
       "4        2014-08-28 17:47:00+00:00\n",
       "                    ...           \n",
       "199995   2012-10-28 10:49:00+00:00\n",
       "199996   2014-03-14 01:09:00+00:00\n",
       "199997   2009-06-29 00:42:00+00:00\n",
       "199998   2015-05-20 14:56:25+00:00\n",
       "199999   2010-05-15 04:08:00+00:00\n",
       "Name: pickup_datetime, Length: 200000, dtype: datetime64[ns, UTC]"
      ]
     },
     "execution_count": 10,
     "metadata": {},
     "output_type": "execute_result"
    }
   ],
   "source": [
    "#Multiple correct\n",
    "pd.to_datetime(data['pickup_datetime'])"
   ]
  },
  {
   "cell_type": "code",
   "execution_count": 11,
   "id": "2f983f60",
   "metadata": {},
   "outputs": [
    {
     "data": {
      "text/plain": [
       "0        2015-05-07 19:52:06\n",
       "1        2009-07-17 20:04:56\n",
       "2        2009-08-24 21:45:00\n",
       "3        2009-06-26 08:22:21\n",
       "4        2014-08-28 17:47:00\n",
       "                 ...        \n",
       "199995   2012-10-28 10:49:00\n",
       "199996   2014-03-14 01:09:00\n",
       "199997   2009-06-29 00:42:00\n",
       "199998   2015-05-20 14:56:25\n",
       "199999   2010-05-15 04:08:00\n",
       "Name: pickup_datetime, Length: 200000, dtype: datetime64[ns]"
      ]
     },
     "execution_count": 11,
     "metadata": {},
     "output_type": "execute_result"
    }
   ],
   "source": [
    "data['pickup_datetime'].astype('datetime64[ns]')"
   ]
  },
  {
   "cell_type": "markdown",
   "id": "0a09fb45",
   "metadata": {},
   "source": [
    "##### Q.6) Which function can be used to remove null values from the dataframe?"
   ]
  },
  {
   "cell_type": "code",
   "execution_count": 12,
   "id": "95ab6923",
   "metadata": {},
   "outputs": [
    {
     "data": {
      "text/plain": [
       "ride_id              0\n",
       "fare_amount          0\n",
       "pickup_datetime      0\n",
       "pickup_longitude     0\n",
       "pickup_latitude      0\n",
       "dropoff_longitude    1\n",
       "dropoff_latitude     1\n",
       "passenger_count      0\n",
       "dtype: int64"
      ]
     },
     "execution_count": 12,
     "metadata": {},
     "output_type": "execute_result"
    }
   ],
   "source": [
    "data.isnull().sum()"
   ]
  },
  {
   "cell_type": "code",
   "execution_count": 13,
   "id": "3c62da54",
   "metadata": {},
   "outputs": [
    {
     "data": {
      "text/plain": [
       "ride_id              0\n",
       "fare_amount          0\n",
       "pickup_datetime      0\n",
       "pickup_longitude     0\n",
       "pickup_latitude      0\n",
       "dropoff_longitude    0\n",
       "dropoff_latitude     0\n",
       "passenger_count      0\n",
       "dtype: int64"
      ]
     },
     "execution_count": 13,
     "metadata": {},
     "output_type": "execute_result"
    }
   ],
   "source": [
    "# function can be used to remove null values from the dataframe\n",
    "df=data.dropna()\n",
    "df.isnull().sum()"
   ]
  },
  {
   "cell_type": "markdown",
   "id": "1ebbb125",
   "metadata": {},
   "source": [
    "##### Q.7) What is the average fare amount?"
   ]
  },
  {
   "cell_type": "code",
   "execution_count": 14,
   "id": "e673fca8",
   "metadata": {},
   "outputs": [
    {
     "name": "stdout",
     "output_type": "stream",
     "text": [
      " average fare amount: 11.359891549458371\n"
     ]
    }
   ],
   "source": [
    "avg_fare=df['fare_amount'].mean()\n",
    "print(f\" average fare amount: {avg_fare}\")"
   ]
  },
  {
   "cell_type": "code",
   "execution_count": 16,
   "id": "fbfdeb26",
   "metadata": {},
   "outputs": [
    {
     "data": {
      "text/html": [
       "<div>\n",
       "<style scoped>\n",
       "    .dataframe tbody tr th:only-of-type {\n",
       "        vertical-align: middle;\n",
       "    }\n",
       "\n",
       "    .dataframe tbody tr th {\n",
       "        vertical-align: top;\n",
       "    }\n",
       "\n",
       "    .dataframe thead th {\n",
       "        text-align: right;\n",
       "    }\n",
       "</style>\n",
       "<table border=\"1\" class=\"dataframe\">\n",
       "  <thead>\n",
       "    <tr style=\"text-align: right;\">\n",
       "      <th></th>\n",
       "      <th>ride_id</th>\n",
       "      <th>fare_amount</th>\n",
       "      <th>pickup_longitude</th>\n",
       "      <th>pickup_latitude</th>\n",
       "      <th>dropoff_longitude</th>\n",
       "      <th>dropoff_latitude</th>\n",
       "      <th>passenger_count</th>\n",
       "    </tr>\n",
       "  </thead>\n",
       "  <tbody>\n",
       "    <tr>\n",
       "      <th>count</th>\n",
       "      <td>1.999990e+05</td>\n",
       "      <td>199999.000000</td>\n",
       "      <td>199999.000000</td>\n",
       "      <td>199999.000000</td>\n",
       "      <td>199999.000000</td>\n",
       "      <td>199999.000000</td>\n",
       "      <td>199999.000000</td>\n",
       "    </tr>\n",
       "    <tr>\n",
       "      <th>mean</th>\n",
       "      <td>2.771248e+07</td>\n",
       "      <td>11.359892</td>\n",
       "      <td>-72.527631</td>\n",
       "      <td>39.935881</td>\n",
       "      <td>-72.525292</td>\n",
       "      <td>39.923890</td>\n",
       "      <td>1.684543</td>\n",
       "    </tr>\n",
       "    <tr>\n",
       "      <th>std</th>\n",
       "      <td>1.601386e+07</td>\n",
       "      <td>9.901760</td>\n",
       "      <td>11.437815</td>\n",
       "      <td>7.720558</td>\n",
       "      <td>13.117408</td>\n",
       "      <td>6.794829</td>\n",
       "      <td>1.385995</td>\n",
       "    </tr>\n",
       "    <tr>\n",
       "      <th>min</th>\n",
       "      <td>1.000000e+00</td>\n",
       "      <td>-52.000000</td>\n",
       "      <td>-1340.648410</td>\n",
       "      <td>-74.015515</td>\n",
       "      <td>-3356.666300</td>\n",
       "      <td>-881.985513</td>\n",
       "      <td>0.000000</td>\n",
       "    </tr>\n",
       "    <tr>\n",
       "      <th>25%</th>\n",
       "      <td>1.382534e+07</td>\n",
       "      <td>6.000000</td>\n",
       "      <td>-73.992065</td>\n",
       "      <td>40.734796</td>\n",
       "      <td>-73.991407</td>\n",
       "      <td>40.733823</td>\n",
       "      <td>1.000000</td>\n",
       "    </tr>\n",
       "    <tr>\n",
       "      <th>50%</th>\n",
       "      <td>2.774524e+07</td>\n",
       "      <td>8.500000</td>\n",
       "      <td>-73.981823</td>\n",
       "      <td>40.752592</td>\n",
       "      <td>-73.980093</td>\n",
       "      <td>40.753042</td>\n",
       "      <td>1.000000</td>\n",
       "    </tr>\n",
       "    <tr>\n",
       "      <th>75%</th>\n",
       "      <td>4.155535e+07</td>\n",
       "      <td>12.500000</td>\n",
       "      <td>-73.967154</td>\n",
       "      <td>40.767158</td>\n",
       "      <td>-73.963659</td>\n",
       "      <td>40.768001</td>\n",
       "      <td>2.000000</td>\n",
       "    </tr>\n",
       "    <tr>\n",
       "      <th>max</th>\n",
       "      <td>5.542357e+07</td>\n",
       "      <td>499.000000</td>\n",
       "      <td>57.418457</td>\n",
       "      <td>1644.421482</td>\n",
       "      <td>1153.572603</td>\n",
       "      <td>872.697628</td>\n",
       "      <td>208.000000</td>\n",
       "    </tr>\n",
       "  </tbody>\n",
       "</table>\n",
       "</div>"
      ],
      "text/plain": [
       "            ride_id    fare_amount  pickup_longitude  pickup_latitude  \\\n",
       "count  1.999990e+05  199999.000000     199999.000000    199999.000000   \n",
       "mean   2.771248e+07      11.359892        -72.527631        39.935881   \n",
       "std    1.601386e+07       9.901760         11.437815         7.720558   \n",
       "min    1.000000e+00     -52.000000      -1340.648410       -74.015515   \n",
       "25%    1.382534e+07       6.000000        -73.992065        40.734796   \n",
       "50%    2.774524e+07       8.500000        -73.981823        40.752592   \n",
       "75%    4.155535e+07      12.500000        -73.967154        40.767158   \n",
       "max    5.542357e+07     499.000000         57.418457      1644.421482   \n",
       "\n",
       "       dropoff_longitude  dropoff_latitude  passenger_count  \n",
       "count      199999.000000     199999.000000    199999.000000  \n",
       "mean          -72.525292         39.923890         1.684543  \n",
       "std            13.117408          6.794829         1.385995  \n",
       "min         -3356.666300       -881.985513         0.000000  \n",
       "25%           -73.991407         40.733823         1.000000  \n",
       "50%           -73.980093         40.753042         1.000000  \n",
       "75%           -73.963659         40.768001         2.000000  \n",
       "max          1153.572603        872.697628       208.000000  "
      ]
     },
     "execution_count": 16,
     "metadata": {},
     "output_type": "execute_result"
    }
   ],
   "source": [
    "#We can also use alternative function\n",
    "df.describe()"
   ]
  },
  {
   "cell_type": "markdown",
   "id": "495651e4",
   "metadata": {},
   "source": [
    "##### Q.8) Calculate distance between each pickup and dropoff points using Haversine formula. \n",
    "##### What is the median haversine distance between pickup and dropoff location according to the given dataset?"
   ]
  },
  {
   "cell_type": "code",
   "execution_count": 18,
   "id": "36956d44",
   "metadata": {},
   "outputs": [
    {
     "name": "stdout",
     "output_type": "stream",
     "text": [
      "The median Haversine distance between pickup and dropoff locations is: 2.1209923961833708 kilometers\n"
     ]
    },
    {
     "name": "stderr",
     "output_type": "stream",
     "text": [
      "C:\\Users\\Admin\\AppData\\Local\\Temp/ipykernel_10800/1273348941.py:25: SettingWithCopyWarning: \n",
      "A value is trying to be set on a copy of a slice from a DataFrame.\n",
      "Try using .loc[row_indexer,col_indexer] = value instead\n",
      "\n",
      "See the caveats in the documentation: https://pandas.pydata.org/pandas-docs/stable/user_guide/indexing.html#returning-a-view-versus-a-copy\n",
      "  df['haversine_distance'] = haversine_distance(df['pickup_latitude'],df['pickup_longitude'],\n"
     ]
    }
   ],
   "source": [
    "from scipy.spatial.distance import cdist\n",
    "\n",
    "# Define the Haversine distance calculation function\n",
    "def haversine_distance(lat1, lon1, lat2, lon2):\n",
    "    # Convert latitude and longitude from degrees to radians\n",
    "    '''\n",
    "    without converting to radians, the results would not be meaningful\n",
    "    because the trigonometric functions operate on radians. Converting these values to radians \n",
    "    before applying trigonometric calculations ensures accurate results\n",
    "    when measuring distances and angles on the Earth's curved surface.\n",
    "    '''\n",
    "    lat1, lon1, lat2, lon2 = np.radians([lat1, lon1, lat2, lon2])\n",
    "\n",
    "    # Haversine formula\n",
    "    dlon = lon2 - lon1\n",
    "    dlat = lat2 - lat1\n",
    "    a = np.sin(dlat/2)**2 + np.cos(lat1) * np.cos(lat2) * np.sin(dlon/2)**2\n",
    "    c = 2 * np.arctan2(np.sqrt(a), np.sqrt(1 - a))\n",
    "    r = 6371  # Radius of Earth in kilometers\n",
    "    distance = r * c\n",
    "\n",
    "    return distance\n",
    "\n",
    "# Calculate Haversine distance for each row in the dataset\n",
    "df['haversine_distance'] = haversine_distance(df['pickup_latitude'],df['pickup_longitude'], \n",
    "                                              df['dropoff_latitude'], df['dropoff_longitude'])\n",
    "\n",
    "# Calculate the median Haversine distance\n",
    "median_distance = df['haversine_distance'].median()\n",
    "\n",
    "print(f\"The median Haversine distance between pickup and dropoff locations is: {median_distance} kilometers\")\n"
   ]
  },
  {
   "cell_type": "markdown",
   "id": "94a5e10a",
   "metadata": {},
   "source": [
    "##### Q.9) What is the maximum haversine distance between pickup and dropoff location according to the given dataset?"
   ]
  },
  {
   "cell_type": "code",
   "execution_count": 19,
   "id": "b976d892",
   "metadata": {},
   "outputs": [
    {
     "name": "stdout",
     "output_type": "stream",
     "text": [
      "the maximum haversine distance between pickup and dropoff location according to the given dataset: 16409.239135313168\n"
     ]
    }
   ],
   "source": [
    "max_distance = df['haversine_distance'].max()\n",
    "print(f\"the maximum haversine distance between pickup and dropoff location according to the given dataset: {max_distance }\")"
   ]
  },
  {
   "cell_type": "markdown",
   "id": "b3c564ed",
   "metadata": {},
   "source": [
    "##### Q.10) How many rides have 0.0 haversine distance between pickup and dropoff location according to the given dataset?"
   ]
  },
  {
   "cell_type": "code",
   "execution_count": 20,
   "id": "8ccbaaf7",
   "metadata": {},
   "outputs": [
    {
     "name": "stdout",
     "output_type": "stream",
     "text": [
      "The number of rides with 0.0 Haversine distance between pickup and dropoff locations is: 5632\n"
     ]
    }
   ],
   "source": [
    "# Count the number of rides with 0.0 Haversine distance\n",
    "zero_distance_rides =df[df['haversine_distance'] == 0.0]\n",
    "count_zero_distance_rides = len(zero_distance_rides)\n",
    "print(f\"The number of rides with 0.0 Haversine distance between pickup and dropoff locations is: {count_zero_distance_rides}\")"
   ]
  },
  {
   "cell_type": "markdown",
   "id": "1f474d8d",
   "metadata": {},
   "source": [
    "##### Q.11) What is the mean 'fare_amount' for rides with 0 haversine distance?"
   ]
  },
  {
   "cell_type": "code",
   "execution_count": 21,
   "id": "32b10fec",
   "metadata": {},
   "outputs": [
    {
     "name": "stdout",
     "output_type": "stream",
     "text": [
      "The mean 'fare_amount' for rides with 0.0 Haversine distance is: 11.585317826704578\n"
     ]
    }
   ],
   "source": [
    "# Calculate the mean 'fare_amount' for rides with 0.0 Haversine distance\n",
    "mean_fare_amount = zero_distance_rides['fare_amount'].mean()\n",
    "print(f\"The mean 'fare_amount' for rides with 0.0 Haversine distance is: {mean_fare_amount}\")"
   ]
  },
  {
   "cell_type": "markdown",
   "id": "77d2baef",
   "metadata": {},
   "source": [
    "##### Q.12) What is the maximum 'fare_amount' for a ride?"
   ]
  },
  {
   "cell_type": "code",
   "execution_count": 22,
   "id": "34ced91f",
   "metadata": {},
   "outputs": [
    {
     "name": "stdout",
     "output_type": "stream",
     "text": [
      "The maximum fare_amount for a ride: 499.0\n"
     ]
    }
   ],
   "source": [
    "max_fare_amount=df['fare_amount'].max()\n",
    "print(f\"The maximum fare_amount for a ride: {max_fare_amount}\")"
   ]
  },
  {
   "cell_type": "markdown",
   "id": "c03b5c48",
   "metadata": {},
   "source": [
    "##### Q.13) What is the haversine distance between pickup and dropoff location for the costliest ride?"
   ]
  },
  {
   "cell_type": "code",
   "execution_count": 25,
   "id": "02967796",
   "metadata": {},
   "outputs": [
    {
     "name": "stdout",
     "output_type": "stream",
     "text": [
      "The Haversine distance for the costliest ride is: 0.0007899213191009994 kilometers\n"
     ]
    }
   ],
   "source": [
    "# Find the row with the highest 'fare_amount' (the costliest ride)\n",
    "costliest_ride =df[df['fare_amount'] == df['fare_amount'].max()]\n",
    "\n",
    "# Extract the coordinates for pickup and dropoff for the costliest ride\n",
    "pickup_lat = costliest_ride['pickup_latitude'].values[0]\n",
    "pickup_lon = costliest_ride['pickup_longitude'].values[0]\n",
    "dropoff_lat = costliest_ride['dropoff_latitude'].values[0]\n",
    "dropoff_lon = costliest_ride['dropoff_longitude'].values[0]\n",
    "\n",
    "haversine_distance_costliest = haversine_distance(pickup_lat, pickup_lon, dropoff_lat, dropoff_lon)\n",
    "print(f\"The Haversine distance for the costliest ride is: {haversine_distance_costliest} kilometers\")"
   ]
  },
  {
   "cell_type": "markdown",
   "id": "22f534fe",
   "metadata": {},
   "source": [
    "##### Q.14) How many rides were recorded in the year 2014?"
   ]
  },
  {
   "cell_type": "code",
   "execution_count": 26,
   "id": "1e702e2e",
   "metadata": {},
   "outputs": [
    {
     "name": "stdout",
     "output_type": "stream",
     "text": [
      "The number of rides recorded in the year 2014 is: 29968\n"
     ]
    },
    {
     "name": "stderr",
     "output_type": "stream",
     "text": [
      "C:\\Users\\Admin\\AppData\\Local\\Temp/ipykernel_10800/2277354707.py:2: SettingWithCopyWarning: \n",
      "A value is trying to be set on a copy of a slice from a DataFrame.\n",
      "Try using .loc[row_indexer,col_indexer] = value instead\n",
      "\n",
      "See the caveats in the documentation: https://pandas.pydata.org/pandas-docs/stable/user_guide/indexing.html#returning-a-view-versus-a-copy\n",
      "  df['pickup_datetime'] = pd.to_datetime(df['pickup_datetime'])\n"
     ]
    }
   ],
   "source": [
    "# Convert the 'timestamp' column to a datetime\n",
    "df['pickup_datetime'] = pd.to_datetime(df['pickup_datetime'])\n",
    "\n",
    "rides_2014 =df[df['pickup_datetime'].dt.year == 2014]\n",
    "\n",
    "# Count the number of rides in 2014\n",
    "num_rides_2014 = len(rides_2014)\n",
    "\n",
    "print(f\"The number of rides recorded in the year 2014 is: {num_rides_2014}\")"
   ]
  },
  {
   "cell_type": "markdown",
   "id": "b6ac5cad",
   "metadata": {},
   "source": [
    "##### Q.15) How many rides were recorded in the first quarter of 2014?"
   ]
  },
  {
   "cell_type": "code",
   "execution_count": 27,
   "id": "367d56ac",
   "metadata": {},
   "outputs": [
    {
     "name": "stdout",
     "output_type": "stream",
     "text": [
      "The number of rides recorded in the first quarter of 2014 is: 7687\n"
     ]
    }
   ],
   "source": [
    "rides_first_quarter_2014 =df[(df['pickup_datetime'].dt.year == 2014) & (df['pickup_datetime'].dt.quarter == 1)]\n",
    "\n",
    "# Count the number of rides in the first quarter of 2014\n",
    "num_rides_first_quarter_2014 = len(rides_first_quarter_2014)\n",
    "\n",
    "print(f\"The number of rides recorded in the first quarter of 2014 is: {num_rides_first_quarter_2014}\")"
   ]
  },
  {
   "cell_type": "markdown",
   "id": "3ab60dfe",
   "metadata": {},
   "source": [
    "##### Q.17) On which day of the week in September 2010, maximum rides were recorded ?"
   ]
  },
  {
   "cell_type": "code",
   "execution_count": 28,
   "id": "af44160e",
   "metadata": {},
   "outputs": [
    {
     "name": "stdout",
     "output_type": "stream",
     "text": [
      "On Thursday in September 2010, the maximum rides were recorded.\n",
      "3    457\n",
      "2    391\n",
      "5    362\n",
      "4    354\n",
      "6    331\n",
      "1    322\n",
      "0    265\n",
      "Name: pickup_datetime, dtype: int64\n"
     ]
    }
   ],
   "source": [
    "#Rides in September 2010\n",
    "rides_september_2010 =df[(df['pickup_datetime'].dt.year == 2010) & (df['pickup_datetime'].dt.month == 9)]\n",
    "\n",
    "ride_weekday_counts = rides_september_2010['pickup_datetime'].dt.dayofweek.value_counts()\n",
    "\n",
    "# Find the day of the week with the maximum rides\n",
    "max_rides_day = ride_weekday_counts.idxmax()  # Index of the maximum count\n",
    "\n",
    "# Map the index to the day of the week names (0 = Monday, 1 = Tuesday, etc.)\n",
    "day_of_week_names = ['Monday', 'Tuesday', 'Wednesday', 'Thursday', 'Friday', 'Saturday', 'Sunday']\n",
    "max_rides_day_name = day_of_week_names[max_rides_day]\n",
    "\n",
    "print(f\"On {max_rides_day_name} in September 2010, the maximum rides were recorded.\")\n",
    "print(ride_weekday_counts)"
   ]
  },
  {
   "cell_type": "code",
   "execution_count": 29,
   "id": "c260c0f6",
   "metadata": {},
   "outputs": [
    {
     "name": "stderr",
     "output_type": "stream",
     "text": [
      "C:\\Users\\Admin\\AppData\\Local\\Temp/ipykernel_10800/4056879932.py:2: SettingWithCopyWarning: \n",
      "A value is trying to be set on a copy of a slice from a DataFrame.\n",
      "Try using .loc[row_indexer,col_indexer] = value instead\n",
      "\n",
      "See the caveats in the documentation: https://pandas.pydata.org/pandas-docs/stable/user_guide/indexing.html#returning-a-view-versus-a-copy\n",
      "  df['ride_week_day'] = rides_september_2010['pickup_datetime'].dt.dayofweek\n"
     ]
    }
   ],
   "source": [
    "# Add a new column 'ride_week_day' to the DataFrame\n",
    "df['ride_week_day'] = rides_september_2010['pickup_datetime'].dt.dayofweek"
   ]
  },
  {
   "cell_type": "code",
   "execution_count": 30,
   "id": "6e1608dc",
   "metadata": {},
   "outputs": [
    {
     "data": {
      "text/html": [
       "<div>\n",
       "<style scoped>\n",
       "    .dataframe tbody tr th:only-of-type {\n",
       "        vertical-align: middle;\n",
       "    }\n",
       "\n",
       "    .dataframe tbody tr th {\n",
       "        vertical-align: top;\n",
       "    }\n",
       "\n",
       "    .dataframe thead th {\n",
       "        text-align: right;\n",
       "    }\n",
       "</style>\n",
       "<table border=\"1\" class=\"dataframe\">\n",
       "  <thead>\n",
       "    <tr style=\"text-align: right;\">\n",
       "      <th></th>\n",
       "      <th>ride_id</th>\n",
       "      <th>fare_amount</th>\n",
       "      <th>pickup_datetime</th>\n",
       "      <th>pickup_longitude</th>\n",
       "      <th>pickup_latitude</th>\n",
       "      <th>dropoff_longitude</th>\n",
       "      <th>dropoff_latitude</th>\n",
       "      <th>passenger_count</th>\n",
       "      <th>haversine_distance</th>\n",
       "      <th>ride_week_day</th>\n",
       "    </tr>\n",
       "  </thead>\n",
       "  <tbody>\n",
       "    <tr>\n",
       "      <th>0</th>\n",
       "      <td>24238194</td>\n",
       "      <td>7.5</td>\n",
       "      <td>2015-05-07 19:52:06+00:00</td>\n",
       "      <td>-73.999817</td>\n",
       "      <td>40.738354</td>\n",
       "      <td>-73.999512</td>\n",
       "      <td>40.723217</td>\n",
       "      <td>1</td>\n",
       "      <td>1.683323</td>\n",
       "      <td>NaN</td>\n",
       "    </tr>\n",
       "    <tr>\n",
       "      <th>1</th>\n",
       "      <td>27835199</td>\n",
       "      <td>7.7</td>\n",
       "      <td>2009-07-17 20:04:56+00:00</td>\n",
       "      <td>-73.994355</td>\n",
       "      <td>40.728225</td>\n",
       "      <td>-73.994710</td>\n",
       "      <td>40.750325</td>\n",
       "      <td>1</td>\n",
       "      <td>2.457590</td>\n",
       "      <td>NaN</td>\n",
       "    </tr>\n",
       "    <tr>\n",
       "      <th>2</th>\n",
       "      <td>44984355</td>\n",
       "      <td>12.9</td>\n",
       "      <td>2009-08-24 21:45:00+00:00</td>\n",
       "      <td>-74.005043</td>\n",
       "      <td>40.740770</td>\n",
       "      <td>-73.962565</td>\n",
       "      <td>40.772647</td>\n",
       "      <td>1</td>\n",
       "      <td>5.036377</td>\n",
       "      <td>NaN</td>\n",
       "    </tr>\n",
       "    <tr>\n",
       "      <th>3</th>\n",
       "      <td>25894730</td>\n",
       "      <td>5.3</td>\n",
       "      <td>2009-06-26 08:22:21+00:00</td>\n",
       "      <td>-73.976124</td>\n",
       "      <td>40.790844</td>\n",
       "      <td>-73.965316</td>\n",
       "      <td>40.803349</td>\n",
       "      <td>3</td>\n",
       "      <td>1.661683</td>\n",
       "      <td>NaN</td>\n",
       "    </tr>\n",
       "  </tbody>\n",
       "</table>\n",
       "</div>"
      ],
      "text/plain": [
       "    ride_id  fare_amount           pickup_datetime  pickup_longitude  \\\n",
       "0  24238194          7.5 2015-05-07 19:52:06+00:00        -73.999817   \n",
       "1  27835199          7.7 2009-07-17 20:04:56+00:00        -73.994355   \n",
       "2  44984355         12.9 2009-08-24 21:45:00+00:00        -74.005043   \n",
       "3  25894730          5.3 2009-06-26 08:22:21+00:00        -73.976124   \n",
       "\n",
       "   pickup_latitude  dropoff_longitude  dropoff_latitude  passenger_count  \\\n",
       "0        40.738354         -73.999512         40.723217                1   \n",
       "1        40.728225         -73.994710         40.750325                1   \n",
       "2        40.740770         -73.962565         40.772647                1   \n",
       "3        40.790844         -73.965316         40.803349                3   \n",
       "\n",
       "   haversine_distance  ride_week_day  \n",
       "0            1.683323            NaN  \n",
       "1            2.457590            NaN  \n",
       "2            5.036377            NaN  \n",
       "3            1.661683            NaN  "
      ]
     },
     "execution_count": 30,
     "metadata": {},
     "output_type": "execute_result"
    }
   ],
   "source": [
    "df.head(4)"
   ]
  },
  {
   "cell_type": "markdown",
   "id": "336144a1",
   "metadata": {},
   "source": [
    "#### Q.18) Apply a Machine Learning Algorithm to predict the fare amount given following input features:\n",
    "##### passenger_count, distance and ride_week_day.\n",
    "\n",
    "##### Perform a 70-30 split of data.\n",
    "\n",
    "##### Which algorithm gives the least adjusted R square value?"
   ]
  },
  {
   "cell_type": "code",
   "execution_count": 38,
   "id": "c3742a78",
   "metadata": {},
   "outputs": [],
   "source": [
    "#Required Libraries\n",
    "from sklearn.model_selection import train_test_split\n",
    "from sklearn.preprocessing import StandardScaler, LabelEncoder\n",
    "from sklearn.linear_model import LinearRegression\n",
    "from sklearn.tree import DecisionTreeRegressor\n",
    "from sklearn.ensemble import RandomForestRegressor\n",
    "from sklearn.neighbors import KNeighborsClassifier \n",
    "from sklearn.metrics import r2_score"
   ]
  },
  {
   "cell_type": "code",
   "execution_count": 32,
   "id": "44680033",
   "metadata": {},
   "outputs": [
    {
     "name": "stderr",
     "output_type": "stream",
     "text": [
      "C:\\Users\\Admin\\AppData\\Local\\Temp/ipykernel_10800/4165343365.py:3: SettingWithCopyWarning: \n",
      "A value is trying to be set on a copy of a slice from a DataFrame.\n",
      "Try using .loc[row_indexer,col_indexer] = value instead\n",
      "\n",
      "See the caveats in the documentation: https://pandas.pydata.org/pandas-docs/stable/user_guide/indexing.html#returning-a-view-versus-a-copy\n",
      "  df['ride_week_day_encoded'] = label_encoder.fit_transform(df['ride_week_day'])\n"
     ]
    }
   ],
   "source": [
    "# Encode categorical features (e.g., 'ride_week_day')\n",
    "label_encoder = LabelEncoder()\n",
    "df['ride_week_day_encoded'] = label_encoder.fit_transform(df['ride_week_day'])"
   ]
  },
  {
   "cell_type": "code",
   "execution_count": 33,
   "id": "e5de5ed0",
   "metadata": {},
   "outputs": [
    {
     "data": {
      "text/html": [
       "<div>\n",
       "<style scoped>\n",
       "    .dataframe tbody tr th:only-of-type {\n",
       "        vertical-align: middle;\n",
       "    }\n",
       "\n",
       "    .dataframe tbody tr th {\n",
       "        vertical-align: top;\n",
       "    }\n",
       "\n",
       "    .dataframe thead th {\n",
       "        text-align: right;\n",
       "    }\n",
       "</style>\n",
       "<table border=\"1\" class=\"dataframe\">\n",
       "  <thead>\n",
       "    <tr style=\"text-align: right;\">\n",
       "      <th></th>\n",
       "      <th>ride_id</th>\n",
       "      <th>fare_amount</th>\n",
       "      <th>pickup_datetime</th>\n",
       "      <th>pickup_longitude</th>\n",
       "      <th>pickup_latitude</th>\n",
       "      <th>dropoff_longitude</th>\n",
       "      <th>dropoff_latitude</th>\n",
       "      <th>passenger_count</th>\n",
       "      <th>haversine_distance</th>\n",
       "      <th>ride_week_day</th>\n",
       "      <th>ride_week_day_encoded</th>\n",
       "    </tr>\n",
       "  </thead>\n",
       "  <tbody>\n",
       "    <tr>\n",
       "      <th>0</th>\n",
       "      <td>24238194</td>\n",
       "      <td>7.5</td>\n",
       "      <td>2015-05-07 19:52:06+00:00</td>\n",
       "      <td>-73.999817</td>\n",
       "      <td>40.738354</td>\n",
       "      <td>-73.999512</td>\n",
       "      <td>40.723217</td>\n",
       "      <td>1</td>\n",
       "      <td>1.683323</td>\n",
       "      <td>NaN</td>\n",
       "      <td>7</td>\n",
       "    </tr>\n",
       "    <tr>\n",
       "      <th>1</th>\n",
       "      <td>27835199</td>\n",
       "      <td>7.7</td>\n",
       "      <td>2009-07-17 20:04:56+00:00</td>\n",
       "      <td>-73.994355</td>\n",
       "      <td>40.728225</td>\n",
       "      <td>-73.994710</td>\n",
       "      <td>40.750325</td>\n",
       "      <td>1</td>\n",
       "      <td>2.457590</td>\n",
       "      <td>NaN</td>\n",
       "      <td>7</td>\n",
       "    </tr>\n",
       "    <tr>\n",
       "      <th>2</th>\n",
       "      <td>44984355</td>\n",
       "      <td>12.9</td>\n",
       "      <td>2009-08-24 21:45:00+00:00</td>\n",
       "      <td>-74.005043</td>\n",
       "      <td>40.740770</td>\n",
       "      <td>-73.962565</td>\n",
       "      <td>40.772647</td>\n",
       "      <td>1</td>\n",
       "      <td>5.036377</td>\n",
       "      <td>NaN</td>\n",
       "      <td>7</td>\n",
       "    </tr>\n",
       "    <tr>\n",
       "      <th>3</th>\n",
       "      <td>25894730</td>\n",
       "      <td>5.3</td>\n",
       "      <td>2009-06-26 08:22:21+00:00</td>\n",
       "      <td>-73.976124</td>\n",
       "      <td>40.790844</td>\n",
       "      <td>-73.965316</td>\n",
       "      <td>40.803349</td>\n",
       "      <td>3</td>\n",
       "      <td>1.661683</td>\n",
       "      <td>NaN</td>\n",
       "      <td>7</td>\n",
       "    </tr>\n",
       "  </tbody>\n",
       "</table>\n",
       "</div>"
      ],
      "text/plain": [
       "    ride_id  fare_amount           pickup_datetime  pickup_longitude  \\\n",
       "0  24238194          7.5 2015-05-07 19:52:06+00:00        -73.999817   \n",
       "1  27835199          7.7 2009-07-17 20:04:56+00:00        -73.994355   \n",
       "2  44984355         12.9 2009-08-24 21:45:00+00:00        -74.005043   \n",
       "3  25894730          5.3 2009-06-26 08:22:21+00:00        -73.976124   \n",
       "\n",
       "   pickup_latitude  dropoff_longitude  dropoff_latitude  passenger_count  \\\n",
       "0        40.738354         -73.999512         40.723217                1   \n",
       "1        40.728225         -73.994710         40.750325                1   \n",
       "2        40.740770         -73.962565         40.772647                1   \n",
       "3        40.790844         -73.965316         40.803349                3   \n",
       "\n",
       "   haversine_distance  ride_week_day  ride_week_day_encoded  \n",
       "0            1.683323            NaN                      7  \n",
       "1            2.457590            NaN                      7  \n",
       "2            5.036377            NaN                      7  \n",
       "3            1.661683            NaN                      7  "
      ]
     },
     "execution_count": 33,
     "metadata": {},
     "output_type": "execute_result"
    }
   ],
   "source": [
    "df.head(4)"
   ]
  },
  {
   "cell_type": "code",
   "execution_count": 34,
   "id": "d67c99c8",
   "metadata": {},
   "outputs": [],
   "source": [
    "X = df[['passenger_count', 'haversine_distance', 'ride_week_day_encoded']]\n",
    "y = df['fare_amount']\n",
    "\n",
    "# Split the data into training and testing sets (70-30 split)\n",
    "X_train, X_test, y_train, y_test = train_test_split(X, y, test_size=0.3, random_state=42)"
   ]
  },
  {
   "cell_type": "code",
   "execution_count": 35,
   "id": "7c7f7562",
   "metadata": {},
   "outputs": [],
   "source": [
    "scaler = StandardScaler()\n",
    "X_train_scaled = scaler.fit_transform(X_train)\n",
    "X_test_scaled = scaler.transform(X_test)"
   ]
  },
  {
   "cell_type": "code",
   "execution_count": 40,
   "id": "6c982e58",
   "metadata": {},
   "outputs": [],
   "source": [
    "models = {\n",
    "    'Linear Regression': LinearRegression(),\n",
    "    'Random Forest Regression': RandomForestRegressor()\n",
    "}"
   ]
  },
  {
   "cell_type": "code",
   "execution_count": 41,
   "id": "ccedd22c",
   "metadata": {},
   "outputs": [
    {
     "name": "stdout",
     "output_type": "stream",
     "text": [
      "The algorithm with the least adjusted R-squared value is: Linear Regression\n"
     ]
    }
   ],
   "source": [
    "adjusted_r_squared_results = {}\n",
    "\n",
    "for model_name, model in models.items():\n",
    "    model.fit(X_train_scaled, y_train)\n",
    "    y_pred = model.predict(X_test_scaled)\n",
    "    r_squared = r2_score(y_test, y_pred)\n",
    "    \n",
    "    # Calculate adjusted R-squared\n",
    "    n = len(y_test)\n",
    "    k = X_test.shape[1]\n",
    "    adjusted_r_squared = 1 - ((1 - r_squared) * (n - 1) / (n - k - 1))\n",
    "    \n",
    "    adjusted_r_squared_results[model_name] = adjusted_r_squared\n",
    "\n",
    "# Find the model with the least adjusted R-squared value\n",
    "worst_model = min(adjusted_r_squared_results, key=adjusted_r_squared_results.get)\n",
    "\n",
    "print(f\"The algorithm with the least adjusted R-squared value is: {worst_model}\")"
   ]
  },
  {
   "cell_type": "code",
   "execution_count": null,
   "id": "eecb4050",
   "metadata": {},
   "outputs": [],
   "source": []
  }
 ],
 "metadata": {
  "kernelspec": {
   "display_name": "Python 3 (ipykernel)",
   "language": "python",
   "name": "python3"
  },
  "language_info": {
   "codemirror_mode": {
    "name": "ipython",
    "version": 3
   },
   "file_extension": ".py",
   "mimetype": "text/x-python",
   "name": "python",
   "nbconvert_exporter": "python",
   "pygments_lexer": "ipython3",
   "version": "3.9.7"
  }
 },
 "nbformat": 4,
 "nbformat_minor": 5
}
